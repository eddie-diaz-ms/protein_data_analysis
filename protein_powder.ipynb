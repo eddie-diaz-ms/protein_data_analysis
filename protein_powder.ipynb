{
 "cells": [
  {
   "attachments": {},
   "cell_type": "markdown",
   "metadata": {},
   "source": [
    "# Lab Three — Predicting a Target Market for Protein Powders\n",
    "### by Eddie Diaz\n",
    "\n",
    "Dataset Selected: https://dsld.od.nih.gov/"
   ]
  },
  {
   "attachments": {},
   "cell_type": "markdown",
   "metadata": {},
   "source": [
    "## Preparation and Overview\n",
    "\n",
    "For this lab, I'll be using the DSLD government database, which contains every supplement sold in the US. For simplicity, I will only download the portion of data for our target subgroup, protein powders sold in the US. Using this subset, I will train a model to predict which target demographic best suits a particular product based on serving size, daily value, and key ingredient. This mix of quantitative and categorical values will enable us to best predict the target demographic. To do this, I will first define a dummy categorical variable based on serving size. These values will be one-hot encoded to designate their respective target demographic in ascending order (low, mid high). The logic behind this process was explained in Lab One. Then, I'll use a predictive linear regression algorithm to obtain weight values for each feature to predict a multi-class target value that nears our \"product type,\" the dummy variable.\n",
    "\n",
    "This prediction task will enable us to know which target demographic best suits a product based on given data. For example,  we cam know which products better suit athletes, people on a specific diet, and other buyer personas that can be commercialized into a marketplace platform. By offering the best supplement products to each respective individual, we can not only produce more sales, but we can also ensure long-lasting satisfaction with each purchase, avoid health issues like toxicity, and improve defective industry practices like oversized servings. Because supplement recommendations affect people's health, this algorithm should perform exceedingly well for deployment. Nevertheless, right now we just want to better understand the market for machine learning exploration.\n",
    "\n",
    "Once again, I know that most data in this csv is not useful. Many attributes seem to have the wrong label, and features seem to be mixed out of place. For example, I doubt \"Adults and children 4 or more years of age\" is actually supposed to be under the ingredients column. Luckily, my background in Nutrition Coaching allows me to impute the correct label for each attribute, so we can build a small workable set of data. \n",
    "\n",
    "Items are repeated often which can alter our results, so I'll have to create a filtering algorithm to select only one of each item. Unfortunately, this also means that the actual ingredient variable (listed under DSLD Ingredient Categories) is useless. Individual items are repeated for each ingredient, so if a powder contains Vitamin A and Protein, it would be listed twice. In addition, many ingredients are listed with faulty data, as \"Calories\" is not an actual ingredient. For these reasons, I decided to drop the ingredient variable altogether; it would be too complicated to clean for this project. \n",
    "\n",
    "To further simplify our task, I will have to delete all items not in grams, as measurements such as \"2 Scoops\" are difficult to standardize. And finally, I will ensure all items without complete data are also removed for simplicity. In a commercialization endeavor, this would also benefit our business, as misleading or incomplete labels are unsafe to recommend."
   ]
  },
  {
   "cell_type": "code",
   "execution_count": 242,
   "metadata": {},
   "outputs": [
    {
     "name": "stdout",
     "output_type": "stream",
     "text": [
      "   serving_size daily_value\n",
      "0          98.0         120\n",
      "1          96.0          80\n",
      "2          96.0          78\n",
      "3          96.0          78\n",
      "4          96.0          78\n",
      "serving_size    2070\n",
      "daily_value     1565\n",
      "dtype: int64\n"
     ]
    }
   ],
   "source": [
    "#Original code written by me. Entries not in grams were deleted manually using Microsoft Excel.\n",
    "\n",
    "import csv\n",
    "import pandas as pd\n",
    "\n",
    "supplements = []\n",
    "\n",
    "with open(\"./report/DietarySupplementFacts.csv\") as file:\n",
    "    reader = csv.DictReader(file)\n",
    "\n",
    "\n",
    "    for row in reader:\n",
    "        if row[\"DSLD Ingredient Categories\"] == \"Protein\":\n",
    "            serving = row[\"Serving Size\"]\n",
    "            grams = float(serving.rstrip(\"gGram(s)\"))\n",
    "            powder = {\n",
    "                \"serving_size\" : grams,\n",
    "                \"daily_value\": row[\"Daily Value Target Group\"]\n",
    "            }\n",
    "            supplements.append(powder)\n",
    "        else:\n",
    "            continue\n",
    "\n",
    "\n",
    "csv_header = [\"serving_size\", \"daily_value\"]\n",
    "proteins = \"proteins.csv\"\n",
    "with open(proteins, \"w\") as csvfile:\n",
    "    writer = csv.DictWriter(csvfile, fieldnames=csv_header)\n",
    "    writer.writeheader()\n",
    "    writer.writerows(supplements)\n",
    "\n",
    "protein_df = pd.read_csv(proteins)\n",
    "\n",
    "print(protein_df.head())\n",
    "print(protein_df.count())\n"
   ]
  },
  {
   "attachments": {},
   "cell_type": "markdown",
   "metadata": {},
   "source": [
    "It's a small set, but this data seems way more workable. \n",
    "\n",
    "I quickly noticed that for 2070 data points,, only 1565 contain %DV. Although we could impute values for each of these data points, the lack of ingredient data makes it difficult to accurately do so. As such, we will delete items without a %DV. Additionally, following the outlier logic described in lab one, items over 60g will be removed from the list. These values are oversized and unadvisable to recommend, as excess protein is simply treated as waste by the body."
   ]
  },
  {
   "cell_type": "code",
   "execution_count": 243,
   "metadata": {},
   "outputs": [
    {
     "name": "stdout",
     "output_type": "stream",
     "text": [
      "    serving_size daily_value\n",
      "19           8.5          16\n",
      "20           8.0          12\n",
      "21           8.0          12\n",
      "68           7.2           5\n",
      "70           7.0          12\n",
      "serving_size    1409\n",
      "daily_value     1409\n",
      "dtype: int64\n"
     ]
    }
   ],
   "source": [
    "protein_df.drop(protein_df[(protein_df['serving_size'] >= 60)].index, inplace = True)\n",
    "protein_df.dropna(inplace=True)\n",
    "print(protein_df.head())\n",
    "print(protein_df.count())"
   ]
  },
  {
   "attachments": {},
   "cell_type": "markdown",
   "metadata": {},
   "source": [
    "Perfect. We have a dataset with 1409 items in a standardized format. It's only missing the dummy variable and the target colum, which I'll add below."
   ]
  },
  {
   "cell_type": "code",
   "execution_count": 244,
   "metadata": {},
   "outputs": [
    {
     "name": "stdout",
     "output_type": "stream",
     "text": [
      "    serving_size daily_value  product_type\n",
      "19           8.5          16             0\n",
      "20           8.0          12             0\n",
      "21           8.0          12             0\n",
      "68           7.2           5             0\n",
      "70           7.0          12             0\n"
     ]
    }
   ],
   "source": [
    "protein_df[\"product_type\"] = protein_df[\"serving_size\"].apply(lambda x: 0 if x < 20 else (2 if x >= 45 else 1))\n",
    "print(protein_df.head())"
   ]
  },
  {
   "cell_type": "code",
   "execution_count": 245,
   "metadata": {},
   "outputs": [],
   "source": [
    "protein_df.daily_value = pd.to_numeric(protein_df.daily_value, 'coerce')\n",
    "protein_df.dropna(inplace=True)"
   ]
  },
  {
   "attachments": {},
   "cell_type": "markdown",
   "metadata": {},
   "source": [
    "I added the code above after realizing that daily value was actually a string. \n",
    "Now for some summary statistics on our numeric data categories:"
   ]
  },
  {
   "cell_type": "code",
   "execution_count": 246,
   "metadata": {},
   "outputs": [
    {
     "data": {
      "text/plain": [
       "serving_size    32.0\n",
       "daily_value     48.0\n",
       "product_type     1.0\n",
       "dtype: float64"
      ]
     },
     "execution_count": 246,
     "metadata": {},
     "output_type": "execute_result"
    }
   ],
   "source": [
    "protein_df[[\"serving_size\", \"daily_value\", \"product_type\"]].median()"
   ]
  },
  {
   "cell_type": "code",
   "execution_count": 247,
   "metadata": {},
   "outputs": [
    {
     "data": {
      "text/html": [
       "<div>\n",
       "<style scoped>\n",
       "    .dataframe tbody tr th:only-of-type {\n",
       "        vertical-align: middle;\n",
       "    }\n",
       "\n",
       "    .dataframe tbody tr th {\n",
       "        vertical-align: top;\n",
       "    }\n",
       "\n",
       "    .dataframe thead th {\n",
       "        text-align: right;\n",
       "    }\n",
       "</style>\n",
       "<table border=\"1\" class=\"dataframe\">\n",
       "  <thead>\n",
       "    <tr style=\"text-align: right;\">\n",
       "      <th></th>\n",
       "      <th>serving_size</th>\n",
       "      <th>daily_value</th>\n",
       "      <th>product_type</th>\n",
       "    </tr>\n",
       "  </thead>\n",
       "  <tbody>\n",
       "    <tr>\n",
       "      <th>count</th>\n",
       "      <td>1405.000000</td>\n",
       "      <td>1405.000000</td>\n",
       "      <td>1405.000000</td>\n",
       "    </tr>\n",
       "    <tr>\n",
       "      <th>mean</th>\n",
       "      <td>30.822206</td>\n",
       "      <td>44.418833</td>\n",
       "      <td>0.971530</td>\n",
       "    </tr>\n",
       "    <tr>\n",
       "      <th>std</th>\n",
       "      <td>8.702390</td>\n",
       "      <td>11.425083</td>\n",
       "      <td>0.338487</td>\n",
       "    </tr>\n",
       "    <tr>\n",
       "      <th>min</th>\n",
       "      <td>1.000000</td>\n",
       "      <td>1.000000</td>\n",
       "      <td>0.000000</td>\n",
       "    </tr>\n",
       "    <tr>\n",
       "      <th>25%</th>\n",
       "      <td>28.400000</td>\n",
       "      <td>40.000000</td>\n",
       "      <td>1.000000</td>\n",
       "    </tr>\n",
       "    <tr>\n",
       "      <th>50%</th>\n",
       "      <td>32.000000</td>\n",
       "      <td>48.000000</td>\n",
       "      <td>1.000000</td>\n",
       "    </tr>\n",
       "    <tr>\n",
       "      <th>75%</th>\n",
       "      <td>35.000000</td>\n",
       "      <td>50.000000</td>\n",
       "      <td>1.000000</td>\n",
       "    </tr>\n",
       "    <tr>\n",
       "      <th>max</th>\n",
       "      <td>58.000000</td>\n",
       "      <td>100.000000</td>\n",
       "      <td>2.000000</td>\n",
       "    </tr>\n",
       "  </tbody>\n",
       "</table>\n",
       "</div>"
      ],
      "text/plain": [
       "       serving_size  daily_value  product_type\n",
       "count   1405.000000  1405.000000   1405.000000\n",
       "mean      30.822206    44.418833      0.971530\n",
       "std        8.702390    11.425083      0.338487\n",
       "min        1.000000     1.000000      0.000000\n",
       "25%       28.400000    40.000000      1.000000\n",
       "50%       32.000000    48.000000      1.000000\n",
       "75%       35.000000    50.000000      1.000000\n",
       "max       58.000000   100.000000      2.000000"
      ]
     },
     "execution_count": 247,
     "metadata": {},
     "output_type": "execute_result"
    }
   ],
   "source": [
    "protein_df[[\"serving_size\", \"daily_value\", \"product_type\"]].describe()"
   ]
  },
  {
   "attachments": {},
   "cell_type": "markdown",
   "metadata": {},
   "source": [
    "Awesome! Looking good, but now I need to implement a 80/20 split.\n",
    "\n",
    "I believe this split is a little skewed towards the training set. Having only 20% of all supplement data in the US leaves very little room for multiple iterations of the model. In this case, the model may \"overfit\" the training set. Therefore, the end prediction will be less polished. However, this large training set is also very helpful, as the machine will have a large sample to better predict new product's end market. It's a double-edged sword. If this model were to be deployed, I would probably change the split to allow for more training, but it will suffice for now."
   ]
  },
  {
   "cell_type": "code",
   "execution_count": 265,
   "metadata": {},
   "outputs": [
    {
     "name": "stdout",
     "output_type": "stream",
     "text": [
      "[0 0 0 0 0]\n"
     ]
    }
   ],
   "source": [
    "y = protein_df[\"product_type\"].to_numpy() # define the target variable (dependent variable) as y\n",
    "print(y[0:5])"
   ]
  },
  {
   "cell_type": "code",
   "execution_count": 273,
   "metadata": {},
   "outputs": [
    {
     "name": "stdout",
     "output_type": "stream",
     "text": [
      "    serving_size  daily_value\n",
      "19             8           16\n",
      "20             8           12\n",
      "21             8           12\n",
      "68             7            5\n",
      "70             7           12\n"
     ]
    }
   ],
   "source": [
    "protein_df['serving_size'] = protein_df['serving_size'].astype('int64')\n",
    "protein_df['daily_value'] = protein_df['daily_value'].astype('int64')\n",
    "protein_df = protein_df.drop([\"product_type\"], axis=1)\n",
    "\n",
    "print(protein_df.head())"
   ]
  },
  {
   "cell_type": "code",
   "execution_count": 274,
   "metadata": {},
   "outputs": [
    {
     "name": "stdout",
     "output_type": "stream",
     "text": [
      "(1124, 2) (1124,)\n",
      "(281, 2) (281,)\n"
     ]
    }
   ],
   "source": [
    "# create training and testing X and Y split\n",
    "# based on this source https://towardsdatascience.com/train-test-split-and-cross-validation-in-python-80b61beca4b6\n",
    "from sklearn import datasets, linear_model\n",
    "from sklearn.model_selection import train_test_split\n",
    "from matplotlib import pyplot as plt\n",
    "\n",
    "X_train, X_test, y_train, y_test = train_test_split(protein_df, y, test_size=0.2)\n",
    "print(X_train.shape, y_train.shape)\n",
    "print(X_test.shape, y_test.shape)"
   ]
  },
  {
   "attachments": {},
   "cell_type": "markdown",
   "metadata": {},
   "source": [
    "And now we're ready to create the model.\n",
    "\n",
    "## Modeling\n",
    "\n",
    "First, we'll create a custom model that uses steepest ascent method for optimization."
   ]
  },
  {
   "cell_type": "code",
   "execution_count": 275,
   "metadata": {},
   "outputs": [
    {
     "name": "stdout",
     "output_type": "stream",
     "text": [
      "Logistic Regression Object with coefficients:\n",
      "[[-0.13238434]\n",
      " [ 8.39104576]\n",
      " [ 5.57756722]]\n",
      "Accuracy of:  0.896797153024911\n"
     ]
    }
   ],
   "source": [
    "# Based on Dr. Larson's code, https://github.com/eclarson/MachineLearningNotebooks/blob/master/06.%20Optimization.ipynb\n",
    "import numpy as np\n",
    "from sklearn.metrics import accuracy_score\n",
    "from scipy.special import expit\n",
    "\n",
    "class ClassifyLogisticRegression:\n",
    "    def __init__(self, eta, iterations=20, C=0.001):\n",
    "        self.eta = eta\n",
    "        self.iters = iterations\n",
    "        self.C = C\n",
    "        # internally we will store the weights as self.w_ to keep with sklearn conventions\n",
    "        \n",
    "    def __str__(self):\n",
    "        if(hasattr(self,'w_')):\n",
    "            return 'Logistic Regression Object with coefficients:\\n'+ str(self.w_) # is we have trained the object\n",
    "        else:\n",
    "            return 'Untrained Binary Logistic Regression Object'\n",
    "        \n",
    "    # convenience, private:\n",
    "    @staticmethod\n",
    "    def _add_bias(X):\n",
    "        return np.hstack((np.ones((X.shape[0],1)),X)) # add bias term\n",
    "    \n",
    "    @staticmethod\n",
    "    def _sigmoid(theta):\n",
    "        # increase stability, redefine sigmoid operation\n",
    "        return expit(theta) #1/(1+np.exp(-theta))\n",
    "    \n",
    "    # vectorized gradient calculation with regularization using L2 Norm\n",
    "    def _get_gradient(self,X,y):\n",
    "        ydiff = y-self.predict_proba(X,add_bias=False).ravel() # get y difference\n",
    "        gradient = np.mean(X * ydiff[:,np.newaxis], axis=0) # make ydiff a column vector and multiply through\n",
    "        \n",
    "        gradient = gradient.reshape(self.w_.shape)\n",
    "        gradient[1:] += -2 * self.w_[1:] * self.C\n",
    "        \n",
    "        return gradient\n",
    "    \n",
    "    # public:\n",
    "    def predict_proba(self,X,add_bias=True):\n",
    "        # add bias term if requested\n",
    "        Xb = self._add_bias(X) if add_bias else X\n",
    "        return self._sigmoid(Xb @ self.w_) # return the probability y=1\n",
    "    \n",
    "    def predict(self,X):\n",
    "        return (self.predict_proba(X)>0.5) #return the actual prediction\n",
    "    \n",
    "    \n",
    "    def fit(self, X, y):\n",
    "        Xb = self._add_bias(X) # add bias term\n",
    "        num_samples, num_features = Xb.shape\n",
    "        \n",
    "        self.w_ = np.zeros((num_features,1)) # init weight vector to zeros\n",
    "        \n",
    "        # for as many as the max iterations\n",
    "        for _ in range(self.iters):\n",
    "            gradient = self._get_gradient(Xb,y)\n",
    "            self.w_ += gradient*self.eta # multiply by learning rate \n",
    "            # add because maximizing \n",
    "\n",
    "blr = ClassifyLogisticRegression(eta=0.1,iterations=50,C=0.001)\n",
    "\n",
    "blr.fit(X_train,y_train)\n",
    "print(blr)\n",
    "\n",
    "yhat = blr.predict(X_test)\n",
    "print('Accuracy of: ',accuracy_score(y_test,yhat))"
   ]
  },
  {
   "cell_type": "code",
   "execution_count": 276,
   "metadata": {},
   "outputs": [
    {
     "name": "stdout",
     "output_type": "stream",
     "text": [
      "Logistic Regression Object with coefficients:\n",
      "[[  2.88976272]\n",
      " [190.06827055]\n",
      " [217.25796278]]\n",
      "Accuracy of:  0.896797153024911\n"
     ]
    },
    {
     "name": "stderr",
     "output_type": "stream",
     "text": [
      "/var/folders/s3/j5z935293gb554y0mbshh4n00000gn/T/ipykernel_51140/2960004216.py:19: RuntimeWarning: divide by zero encountered in log\n",
      "  return -np.sum(ma.log(g[y==1]))-ma.sum(np.log(1-g[y==0])) + C*sum(wnew**2)\n",
      "/Library/Frameworks/Python.framework/Versions/3.11/lib/python3.11/site-packages/scipy/optimize/_optimize.py:2233: RuntimeWarning: invalid value encountered in subtract\n",
      "  r = (xf - nfc) * (fx - ffulc)\n",
      "/Library/Frameworks/Python.framework/Versions/3.11/lib/python3.11/site-packages/scipy/optimize/_optimize.py:2234: RuntimeWarning: invalid value encountered in subtract\n",
      "  q = (xf - fulc) * (fx - fnfc)\n"
     ]
    }
   ],
   "source": [
    "from scipy.optimize import minimize_scalar\n",
    "import copy\n",
    "from numpy import ma # (masked array) this has most numpy functions that work with NaN data.\n",
    "class LineSearchLogisticRegression(ClassifyLogisticRegression):\n",
    "    \n",
    "    # define custom line search for problem\n",
    "    def __init__(self, line_iters=0.0, **kwds):        \n",
    "        self.line_iters = line_iters\n",
    "        # but keep other keywords\n",
    "        super().__init__(**kwds) # call parent initializer\n",
    "    \n",
    "    # this defines the function with the first input to be optimized\n",
    "    # therefore eta will be optimized, with all inputs constant\n",
    "    @staticmethod\n",
    "    def objective_function(eta,X,y,w,grad,C):\n",
    "        wnew = w - grad*eta\n",
    "        g = expit(X @ wnew)\n",
    "        # the line search is looking for minimization, so take the negative of l(w)\n",
    "        return -np.sum(ma.log(g[y==1]))-ma.sum(np.log(1-g[y==0])) + C*sum(wnew**2)\n",
    "    \n",
    "        \n",
    "    def fit(self, X, y):\n",
    "        Xb = self._add_bias(X) # add bias term\n",
    "        num_samples, num_features = Xb.shape\n",
    "        \n",
    "        self.w_ = np.zeros((num_features,1)) # init weight vector to zeros\n",
    "        \n",
    "        # for as many as the max iterations\n",
    "        for _ in range(self.iters):\n",
    "            gradient = -self._get_gradient(Xb,y)\n",
    "            # minimization is in opposite direction\n",
    "            \n",
    "            # do line search in gradient direction, using scipy function\n",
    "            opts = {'maxiter':self.line_iters} # unclear exactly what this should be\n",
    "            res = minimize_scalar(self.objective_function, # objective function to optimize\n",
    "                                  bounds=(0,self.eta*10), #bounds to optimize\n",
    "                                  args=(Xb,y,self.w_,gradient,self.C), # additional argument for objective function\n",
    "                                  method='bounded', # bounded optimization for speed\n",
    "                                  options=opts) # set max iterations\n",
    "            \n",
    "            eta = res.x # get optimal learning rate\n",
    "            self.w_ -= gradient*eta # set new function values\n",
    "            # subtract to minimize\n",
    "                \n",
    "            \n",
    "\n",
    "lslr = LineSearchLogisticRegression(eta=1,\n",
    "                                    iterations=5, \n",
    "                                    line_iters=5, \n",
    "                                    C=0.001)\n",
    "\n",
    "lslr.fit(X_train,y_train)\n",
    "\n",
    "yhat = lslr.predict(X_test)\n",
    "print(lslr)\n",
    "print('Accuracy of: ',accuracy_score(y_test,yhat))"
   ]
  },
  {
   "attachments": {},
   "cell_type": "markdown",
   "metadata": {},
   "source": [
    "Although the model seems to be accurate at predicting the target market, I believe it is bound to be inaccurate because the data itself is faulty. In addition, the target variable is directly based on the serving size, making our model like a self-fulfilling prophecy. Furthermore, we can see that our optimization technique was unsuccessful, as we obtained the same accuracy score. Again, I truly believe this is a problem with my data source. Hopefully a visualization from sklearn will elucidate our findings."
   ]
  },
  {
   "cell_type": "code",
   "execution_count": 279,
   "metadata": {},
   "outputs": [
    {
     "data": {
      "text/plain": [
       "array([0.94090112, 1.14362572, 1.14362572, 1.14362572, 0.84588308])"
      ]
     },
     "execution_count": 279,
     "metadata": {},
     "output_type": "execute_result"
    }
   ],
   "source": [
    "lm = linear_model.LinearRegression()\n",
    "model = lm.fit(X_train, y_train)\n",
    "predictions = lm.predict(X_test)\n",
    "\n",
    "predictions[0:5]"
   ]
  },
  {
   "cell_type": "code",
   "execution_count": 280,
   "metadata": {},
   "outputs": [
    {
     "name": "stdout",
     "output_type": "stream",
     "text": [
      "Score 0.6374347750772795\n"
     ]
    },
    {
     "data": {
      "image/png": "[encoded data removed]",
      "text/plain": [
       "<Figure size 640x480 with 1 Axes>"
      ]
     },
     "metadata": {},
     "output_type": "display_data"
    }
   ],
   "source": [
    "plt.scatter(y_test, predictions)\n",
    "plt.xlabel(\"True Values\")\n",
    "plt.ylabel(\"Predictions\")\n",
    "print(\"Score\", model.score(X_test, y_test))"
   ]
  },
  {
   "attachments": {},
   "cell_type": "markdown",
   "metadata": {},
   "source": [
    "As we can see, the data is accurately being clustered into three different subgroups, one for true supplements \"0\", another for meal replacements \"1\", and one for increased metabolic demand \"2\". However, we can also see that our custom model performed better, as it has a superior accuracy score by almost 30%. Nevertheless, the model is still lacking due to poor data input.\n",
    "\n",
    "However, we can still test out for learning purposes how other optimizations improve the model. Let's try BGFS Hessian approximations, and see what happens."
   ]
  },
  {
   "cell_type": "code",
   "execution_count": 281,
   "metadata": {},
   "outputs": [
    {
     "name": "stdout",
     "output_type": "stream",
     "text": [
      "MultiClass Logistic Regression Object with coefficients:\n",
      "[[ 1.39794311 -0.43094634  0.12513884]\n",
      " [-1.42571699  0.00381683  0.08001956]\n",
      " [-2.43482383  0.22350073 -0.2091847 ]]\n",
      "Accuracy of:  0.9359430604982206\n"
     ]
    }
   ],
   "source": [
    "# also based on Dr. Larson's notebook on Optimization\n",
    "from scipy.optimize import fmin_bfgs # maybe the most common bfgs algorithm in the world\n",
    "from numpy import ma\n",
    "class BFGSLogisticRegression(ClassifyLogisticRegression):\n",
    "    \n",
    "    @staticmethod\n",
    "    def objective_function(w,X,y,C):\n",
    "        g = expit(X @ w)\n",
    "        # invert this because scipy minimizes, but we derived all formulas for maximzing\n",
    "        return -np.sum(ma.log(g[y==1]))-np.sum(ma.log(1-g[y==0])) + C*sum(w**2) \n",
    "        #-np.sum(y*np.log(g)+(1-y)*np.log(1-g))\n",
    "\n",
    "    @staticmethod\n",
    "    def objective_gradient(w,X,y,C):\n",
    "        g = expit(X @ w)\n",
    "        ydiff = y-g # get y difference\n",
    "        gradient = np.mean(X * ydiff[:,np.newaxis], axis=0)\n",
    "        gradient = gradient.reshape(w.shape)\n",
    "        gradient[1:] += -2 * w[1:] * C\n",
    "        return -gradient\n",
    "    \n",
    "    # just overwrite fit function\n",
    "    def fit(self, X, y):\n",
    "        Xb = self._add_bias(X) # add bias term\n",
    "        num_samples, num_features = Xb.shape\n",
    "        \n",
    "        self.w_ = fmin_bfgs(self.objective_function, # what to optimize\n",
    "                            np.zeros((num_features,1)), # starting point\n",
    "                            fprime=self.objective_gradient, # gradient function\n",
    "                            args=(Xb,y,self.C), # extra args for gradient and objective function\n",
    "                            gtol=1e-03, # stopping criteria for gradient, |v_k|\n",
    "                            maxiter=self.iters, # stopping criteria iterations\n",
    "                            disp=False)\n",
    "        \n",
    "        self.w_ = self.w_.reshape((num_features,1))\n",
    "            \n",
    "bfgslr = BFGSLogisticRegression(_,iterations=2,C=0.001) # note that we need only a few iterations here\n",
    "\n",
    "class MultiClassLogisticRegression:\n",
    "    def __init__(self, eta, iterations=20, \n",
    "                 C=0.0001, \n",
    "                 solver=BFGSLogisticRegression):\n",
    "        self.eta = eta\n",
    "        self.iters = iterations\n",
    "        self.C = C\n",
    "        self.solver = solver\n",
    "        self.classifiers_ = []\n",
    "        # internally we will store the weights as self.w_ to keep with sklearn conventions\n",
    "    \n",
    "    def __str__(self):\n",
    "        if(hasattr(self,'w_')):\n",
    "            return 'MultiClass Logistic Regression Object with coefficients:\\n'+ str(self.w_) # is we have trained the object\n",
    "        else:\n",
    "            return 'Untrained MultiClass Logistic Regression Object'\n",
    "        \n",
    "    def fit(self,X,y):\n",
    "        num_samples, num_features = X.shape\n",
    "        self.unique_ = np.sort(np.unique(y)) # get each unique class value\n",
    "        num_unique_classes = len(self.unique_)\n",
    "        self.classifiers_ = []\n",
    "        for i,yval in enumerate(self.unique_): # for each unique value\n",
    "            y_binary = np.array(y==yval).astype(int) # create a binary problem\n",
    "            # train the binary classifier for this class\n",
    "            \n",
    "            hblr = self.solver(eta=self.eta,iterations=self.iters,C=self.C)\n",
    "            hblr.fit(X,y_binary)\n",
    "\n",
    "            # add the trained classifier to the list\n",
    "            self.classifiers_.append(hblr)\n",
    "            \n",
    "        # save all the weights into one matrix, separate column for each class\n",
    "        self.w_ = np.hstack([x.w_ for x in self.classifiers_]).T\n",
    "        \n",
    "    def predict_proba(self,X):\n",
    "        probs = []\n",
    "        for hblr in self.classifiers_:\n",
    "            probs.append(hblr.predict_proba(X).reshape((len(X),1))) # get probability for each classifier\n",
    "        \n",
    "        return np.hstack(probs) # make into single matrix\n",
    "    \n",
    "    def predict(self,X):\n",
    "        return np.argmax(self.predict_proba(X),axis=1) # take argmax along row\n",
    "    \n",
    "lr = MultiClassLogisticRegression(eta=1,\n",
    "    iterations=10,\n",
    "    C=0.01,\n",
    "    solver=BFGSLogisticRegression\n",
    "    )\n",
    "lr.fit(X_train,y_train)\n",
    "print(lr)\n",
    "\n",
    "yhat = lr.predict(X_test)\n",
    "print('Accuracy of: ',accuracy_score(y_test,yhat))"
   ]
  },
  {
   "attachments": {},
   "cell_type": "markdown",
   "metadata": {},
   "source": [
    "Wow! That actually gave us some really good accuracy! The model seems like it's working better thanks to the complex mathematics introduced by Quasi-Newton optimization. However, I still do not feel comfortable with the results, as I understand they are based on poor data. Nevertheless, we can now see that long-handed approaches with complex optimizations work better than generic libraries like SciPy."
   ]
  },
  {
   "attachments": {},
   "cell_type": "markdown",
   "metadata": {},
   "source": [
    "## Deployment\n",
    "\n",
    "After developing two custom model and comparing it to sklearn, it is unadvisable to deploy either. Despite the higher performance of the custom model, the data is incomplete, muddled, and needs extensive cleaning. Furthermore, out target is directly based on our quantitative values, and the output would simply be a matter of encoding. Better data would be required to deploy a commercially viable model that could actually recommend products to people. As it stands, models based on this data are doomed to fail and should not be used predict an actual person's health needs."
   ]
  }
 ],
 "metadata": {
  "kernelspec": {
   "display_name": "Python 3",
   "language": "python",
   "name": "python3"
  },
  "language_info": {
   "codemirror_mode": {
    "name": "ipython",
    "version": 3
   },
   "file_extension": ".py",
   "mimetype": "text/x-python",
   "name": "python",
   "nbconvert_exporter": "python",
   "pygments_lexer": "ipython3",
   "version": "3.8.10"
  },
  "orig_nbformat": 4,
  "vscode": {
   "interpreter": {
    "hash": "aee8b7b246df8f9039afb4144a1f6fd8d2ca17a180786b69acc140d282b71a49"
   }
  }
 },
 "nbformat": 4,
 "nbformat_minor": 2
}
